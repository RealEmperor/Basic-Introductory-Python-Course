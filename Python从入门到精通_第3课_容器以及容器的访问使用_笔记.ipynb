{
 "cells": [
  {
   "cell_type": "markdown",
   "metadata": {},
   "source": [
    "# 容器\n",
    "\n",
    "## list 列表\n",
    "\n",
    "序列是Python中最基本的数据结构。序列中的每个元素都分配一个数字 - 它的位置，或索引，第一个索引是0，第二个索引是1，依此类推。\n",
    "\n",
    "列表的数据项不需要具有相同的类型\n",
    "\n",
    "## tuple 元组（只读列表）\n",
    "\n",
    "## dict 字典\n",
    "\n",
    "字典的每个键值(key=>value)对用冒号(:)分割，每个对之间用逗号(,)分割，整个字典包括在花括号({})中。\n",
    "\n",
    "## set 集合\n",
    "\n",
    "是一个无序不重复元素集, 基本功能包括关系测试和消除重复元素. 集合对象还支持union(联合), intersection(交), difference(差)和sysmmetric difference(对称差集)等数学运算。"
   ]
  },
  {
   "cell_type": "markdown",
   "metadata": {},
   "source": [
    "# list/tuple基本操作\n",
    "\n",
    "创建\n",
    "\n",
    "添加元素（list only）：append, extend\n",
    "\n",
    "删除元素（list only）：del, pop\n",
    "\n",
    "根据索引读写（tuple只读）\n",
    "\n",
    "判断容器是否为空\n",
    "\n",
    "容器元素数量\t\n",
    "\n",
    "遍历"
   ]
  },
  {
   "cell_type": "code",
   "execution_count": 1,
   "metadata": {
    "collapsed": true
   },
   "outputs": [
    {
     "name": "stdout",
     "output_type": "stream",
     "text": [
      "<class 'type'>\n",
      "<class 'list'>\n"
     ]
    }
   ],
   "source": [
    "li = [1, 2, 3, '456', [1, 2, 3], {1: 'one', 2: 'two'}]\n",
    "print(type(list))\n",
    "print(type(li))"
   ]
  },
  {
   "cell_type": "code",
   "execution_count": 2,
   "metadata": {
    "collapsed": true
   },
   "outputs": [
    {
     "name": "stdout",
     "output_type": "stream",
     "text": [
      "1\n",
      "{1: 'one', 2: 'two'}\n",
      "[1, 2, 3]\n"
     ]
    }
   ],
   "source": [
    "# 元素访问\n",
    "print(li[0])\n",
    "print(li[-1])  # li[len(li) - 1]\n",
    "print(li[-2])  # li[len(li) - 2]"
   ]
  },
  {
   "cell_type": "code",
   "execution_count": 3,
   "metadata": {
    "collapsed": true
   },
   "outputs": [
    {
     "name": "stdout",
     "output_type": "stream",
     "text": [
      "3\n",
      "4\n"
     ]
    }
   ],
   "source": [
    "# 查找元素位置\n",
    "print(li.index('456'))\n",
    "print(li.index([1, 2, 3]))\n",
    "# print(li.index(-1)) # 如果不存在会报错：ValueError: -1 is not in list"
   ]
  },
  {
   "cell_type": "code",
   "execution_count": 4,
   "metadata": {
    "collapsed": true
   },
   "outputs": [
    {
     "name": "stdout",
     "output_type": "stream",
     "text": [
      "1\n",
      "2\n",
      "3\n",
      "456\n",
      "[1, 2, 3]\n",
      "{1: 'one', 2: 'two'}\n",
      "1\n",
      "2\n",
      "3\n",
      "456\n",
      "[1, 2, 3]\n",
      "{1: 'one', 2: 'two'}\n"
     ]
    }
   ],
   "source": [
    "# 遍历\n",
    "for i in li:\n",
    "    print(i)\n",
    "    \n",
    "for i in range(len(li)):\n",
    "    print(li[i])"
   ]
  },
  {
   "cell_type": "code",
   "execution_count": 5,
   "metadata": {
    "collapsed": true
   },
   "outputs": [
    {
     "name": "stdout",
     "output_type": "stream",
     "text": [
      "[1, 3, [1, 2, 3]]\n"
     ]
    }
   ],
   "source": [
    "# 删除\n",
    "del (li[-1])  # del(list[index])\n",
    "del (li[1])\n",
    "del (li[-2])\n",
    "print(li)"
   ]
  },
  {
   "cell_type": "code",
   "execution_count": 6,
   "metadata": {
    "collapsed": true
   },
   "outputs": [
    {
     "name": "stdout",
     "output_type": "stream",
     "text": [
      "[1, 2, 3, 4, 5, 6, 7, 8]\n",
      "[1, 2, 3, 4, 5, 6, 7, 8, [6, 7, 8]]\n"
     ]
    }
   ],
   "source": [
    "# 添加元素\n",
    "l_a = [1, 2, 3]\n",
    "l_a.append(4)\n",
    "l_a.append(5)\n",
    "l_b = [6, 7, 8]\n",
    "l_a.extend(l_b)\n",
    "print(l_a)\n",
    "# 对比append的结果\n",
    "l_a.append(l_b)\n",
    "print(l_a)"
   ]
  },
  {
   "cell_type": "code",
   "execution_count": 7,
   "metadata": {
    "collapsed": true
   },
   "outputs": [
    {
     "name": "stdout",
     "output_type": "stream",
     "text": [
      "Empty\n",
      "Empty\n"
     ]
    }
   ],
   "source": [
    "l_a = []\n",
    "if not l_a:\n",
    "    print('Empty')  # not XX和is None不是一回事\n",
    "\n",
    "if len(l_a) == 0:\n",
    "    print('Empty')"
   ]
  },
  {
   "cell_type": "code",
   "execution_count": 8,
   "metadata": {
    "collapsed": true
   },
   "outputs": [
    {
     "name": "stdout",
     "output_type": "stream",
     "text": [
      "<class 'tuple'>\n"
     ]
    }
   ],
   "source": [
    "t = (1, 2, 3, '456')\n",
    "print(type(t))\n",
    "# t[0] = 'a' # 不能被修改，会报错：\n",
    "# TypeError: 'tuple' object does not support item assignment\n",
    "\n",
    "# t.append('x') \n",
    "# AttributeError: 'tuple' object has no attribute 'append'"
   ]
  },
  {
   "cell_type": "markdown",
   "metadata": {},
   "source": [
    "# dict基本操作\n",
    "\n",
    "初始化\n",
    "\n",
    "访问\n",
    "\n",
    "添加元素\n",
    "\n",
    "修改元素\t\n",
    "\n",
    "删除元素\n",
    "\n",
    "判断key是否存在\t\n",
    "\n",
    "判断容器是否为空\n",
    "\n",
    "容器元素数量\t\n",
    "\n",
    "遍历"
   ]
  },
  {
   "cell_type": "code",
   "execution_count": 9,
   "metadata": {
    "collapsed": true
   },
   "outputs": [
    {
     "name": "stdout",
     "output_type": "stream",
     "text": [
      "<class 'type'>\n",
      "<class 'dict'>\n",
      "{'a': 1, 'b': 2, 1: 'one', 2: 'two', 3: [1, 2, 3]}\n"
     ]
    }
   ],
   "source": [
    "d = {'a': 1, 'b': 2, 1: 'one', 2: 'two', 3: [1, 2, 3]}\n",
    "print(type(dict))\n",
    "print(type(d))\n",
    "print(d)"
   ]
  },
  {
   "cell_type": "code",
   "execution_count": 10,
   "metadata": {
    "collapsed": true
   },
   "outputs": [
    {
     "name": "stdout",
     "output_type": "stream",
     "text": [
      "1\n",
      "one\n",
      "[1, 2, 3]\n"
     ]
    }
   ],
   "source": [
    "# 访问元素\n",
    "print(d['a'])\n",
    "print(d[1])\n",
    "print(d[3])"
   ]
  },
  {
   "cell_type": "code",
   "execution_count": 11,
   "metadata": {
    "collapsed": true
   },
   "outputs": [
    {
     "name": "stdout",
     "output_type": "stream",
     "text": [
      "False\n",
      "True\n"
     ]
    }
   ],
   "source": [
    "# 判断key是否存在\n",
    "print('two' in d)\n",
    "print(3 in d)"
   ]
  },
  {
   "cell_type": "code",
   "execution_count": 12,
   "metadata": {
    "collapsed": true
   },
   "outputs": [
    {
     "name": "stdout",
     "output_type": "stream",
     "text": [
      "4\n"
     ]
    }
   ],
   "source": [
    "# 删除\n",
    "del(d[3])   # del(dict[key])\n",
    "print(len(d))"
   ]
  },
  {
   "cell_type": "code",
   "execution_count": 13,
   "metadata": {
    "collapsed": true
   },
   "outputs": [],
   "source": [
    "# 添加元素\n",
    "d[3] = [1, 2, 3, 4]\n",
    "# 修改元素\n",
    "d[3] = '1234'"
   ]
  },
  {
   "cell_type": "code",
   "execution_count": 14,
   "metadata": {
    "collapsed": true
   },
   "outputs": [
    {
     "name": "stdout",
     "output_type": "stream",
     "text": [
      "1\n",
      "2\n",
      "one\n",
      "two\n",
      "1234\n"
     ]
    }
   ],
   "source": [
    "# 遍历\n",
    "for key in d:\n",
    "    print(d[key])"
   ]
  },
  {
   "cell_type": "code",
   "execution_count": 15,
   "metadata": {
    "collapsed": true
   },
   "outputs": [
    {
     "name": "stdout",
     "output_type": "stream",
     "text": [
      "a 1\n",
      "b 2\n",
      "1 one\n",
      "2 two\n",
      "3 1234\n"
     ]
    }
   ],
   "source": [
    "for k, v in d.items():\n",
    "    print(k, v)"
   ]
  },
  {
   "cell_type": "code",
   "execution_count": 16,
   "metadata": {
    "collapsed": true
   },
   "outputs": [
    {
     "name": "stdout",
     "output_type": "stream",
     "text": [
      "<class 'dict_keys'>\n",
      "dict_keys(['a', 'b', 1, 2, 3])\n"
     ]
    }
   ],
   "source": [
    "keys = d.keys()\n",
    "print(type(keys))\n",
    "print(keys)"
   ]
  },
  {
   "cell_type": "markdown",
   "metadata": {},
   "source": [
    "# set基本操作\n",
    "\n",
    "并/交/差集：|/union, &/intersection, -/difference\n",
    "\n",
    "对称差集：^/symmetric_difference（不同时出现在2个集合中的项）\n",
    "\n",
    "包含关系：>=/issuperset\n",
    "\n",
    "添加元素\n",
    "\n",
    "更新元素\n",
    "\n",
    "删除元素\n",
    "\n",
    "元素是否存在\n",
    "\n",
    "容器元素数量\n",
    "\n",
    "遍历"
   ]
  },
  {
   "cell_type": "code",
   "execution_count": 17,
   "metadata": {
    "collapsed": true
   },
   "outputs": [
    {
     "name": "stdout",
     "output_type": "stream",
     "text": [
      "{1, 2, 3, 4, 5, 6}\n",
      "{4, 5, 6, 7, 8, 9}\n"
     ]
    }
   ],
   "source": [
    "s_a = set([1, 2, 2, 3, 4, 5, 6])\n",
    "s_b = set([4, 5, 6, 7, 8, 9])\n",
    "print(s_a)\n",
    "print(s_b)"
   ]
  },
  {
   "cell_type": "code",
   "execution_count": 18,
   "metadata": {
    "collapsed": true
   },
   "outputs": [
    {
     "name": "stdout",
     "output_type": "stream",
     "text": [
      "True\n",
      "False\n"
     ]
    }
   ],
   "source": [
    "# 判断元素是否存在\n",
    "print(5 in s_a)\n",
    "print(10 in s_b)"
   ]
  },
  {
   "cell_type": "code",
   "execution_count": 19,
   "metadata": {
    "collapsed": true
   },
   "outputs": [
    {
     "name": "stdout",
     "output_type": "stream",
     "text": [
      "{1, 2, 3, 4, 5, 6, 7, 8, 9}\n",
      "{1, 2, 3, 4, 5, 6, 7, 8, 9}\n"
     ]
    }
   ],
   "source": [
    "# 并集\n",
    "print(s_a | s_b)\n",
    "print(s_a.union(s_b))"
   ]
  },
  {
   "cell_type": "code",
   "execution_count": 20,
   "metadata": {
    "collapsed": true
   },
   "outputs": [
    {
     "name": "stdout",
     "output_type": "stream",
     "text": [
      "{4, 5, 6}\n",
      "{4, 5, 6}\n"
     ]
    }
   ],
   "source": [
    "# 交集\n",
    "print(s_a & s_b)\n",
    "print(s_a.intersection(s_b))"
   ]
  },
  {
   "cell_type": "code",
   "execution_count": 21,
   "metadata": {
    "collapsed": true
   },
   "outputs": [
    {
     "name": "stdout",
     "output_type": "stream",
     "text": [
      "{1, 2, 3}\n",
      "{1, 2, 3}\n"
     ]
    }
   ],
   "source": [
    "# 差集 A - (A & B)\n",
    "print(s_a - s_b)\n",
    "print(s_a.difference(s_b))"
   ]
  },
  {
   "cell_type": "code",
   "execution_count": 22,
   "metadata": {
    "collapsed": true
   },
   "outputs": [
    {
     "name": "stdout",
     "output_type": "stream",
     "text": [
      "{1, 2, 3, 7, 8, 9}\n",
      "{1, 2, 3, 7, 8, 9}\n"
     ]
    }
   ],
   "source": [
    "# 对称差 (A | B) - (A & B)\n",
    "print(s_a ^ s_b)\n",
    "print(s_a.symmetric_difference(s_b))"
   ]
  },
  {
   "cell_type": "code",
   "execution_count": 23,
   "metadata": {
    "collapsed": true
   },
   "outputs": [
    {
     "name": "stdout",
     "output_type": "stream",
     "text": [
      "{1, 2, 3, 4, 5, 6, 70, 'x', 60}\n"
     ]
    }
   ],
   "source": [
    "# 修改元素\n",
    "s_a.add('x')\n",
    "s_a.update([4, 5, 60, 70])\n",
    "print(s_a)"
   ]
  },
  {
   "cell_type": "code",
   "execution_count": 24,
   "metadata": {
    "collapsed": true
   },
   "outputs": [
    {
     "name": "stdout",
     "output_type": "stream",
     "text": [
      "{1, 2, 3, 4, 5, 6, 'x', 60}\n"
     ]
    }
   ],
   "source": [
    "# 删除元素\n",
    "s_a.remove(70)\n",
    "print(s_a)\n",
    "# s_a.remove(100)\n",
    "# 如果不存在则报错：KeyError: 100"
   ]
  },
  {
   "cell_type": "code",
   "execution_count": 25,
   "metadata": {
    "collapsed": true
   },
   "outputs": [
    {
     "name": "stdout",
     "output_type": "stream",
     "text": [
      "8\n",
      "1\n",
      "2\n",
      "3\n",
      "4\n",
      "5\n",
      "6\n",
      "x\n",
      "60\n"
     ]
    }
   ],
   "source": [
    "print(len(s_a))\n",
    "# 遍历\n",
    "for i in s_a:\n",
    "    print(i)"
   ]
  },
  {
   "cell_type": "markdown",
   "metadata": {},
   "source": [
    "# 切片\n",
    "\n",
    "存取序列（列表，元组，字符串）的任意一部分\n",
    "\n",
    "格式：seq[开始索引:结束索引:步长]\n",
    "\n",
    "默认值\n",
    "\n",
    "负数索引\n",
    "\n",
    "负数步长"
   ]
  },
  {
   "cell_type": "code",
   "execution_count": 26,
   "metadata": {
    "collapsed": true
   },
   "outputs": [
    {
     "name": "stdout",
     "output_type": "stream",
     "text": [
      "[0, 1, 2, 3, 4, 5, 6, 7, 8, 9]\n"
     ]
    }
   ],
   "source": [
    "li = list(range(10))\n",
    "print(li)"
   ]
  },
  {
   "cell_type": "code",
   "execution_count": 27,
   "metadata": {
    "collapsed": true
   },
   "outputs": [
    {
     "name": "stdout",
     "output_type": "stream",
     "text": [
      "[2, 3, 4]\n",
      "[0, 1, 2, 3]\n",
      "[5, 6, 7, 8, 9]\n",
      "[0, 3, 6, 9]\n"
     ]
    }
   ],
   "source": [
    "# 切片 [start:end:steps]  >= start & < end\n",
    "print(li[2:5])  # [3, 4, 5]\n",
    "print(li[:4])   # [0, 1, 2, 3]\n",
    "print(li[5:])   # [6, 7, 8, 9]\n",
    "print(li[0:20:3])   # [0, 3, 6, 9]"
   ]
  },
  {
   "cell_type": "code",
   "execution_count": 28,
   "metadata": {
    "collapsed": true
   },
   "outputs": [
    {
     "name": "stdout",
     "output_type": "stream",
     "text": [
      "[5, 6, 7]\n",
      "[9, 8, 7, 6, 5, 4, 3, 2, 1]\n",
      "[9, 8, 7, 6, 5, 4, 3, 2, 1, 0]\n",
      "[9, 7, 5, 3, 1]\n"
     ]
    }
   ],
   "source": [
    "# 负值怎么处理？\n",
    "print(li[5: -2])    # [5, 6, 7]\n",
    "print(li[9:0:-1])   # [9, 8, 7, 6, 5, 4, 3, 2,1]\n",
    "print(li[9::-1])   # [9 ... 0]\n",
    "print(li[::-2]) # [9, 7, 5, 3, 1]"
   ]
  },
  {
   "cell_type": "code",
   "execution_count": 29,
   "metadata": {
    "collapsed": true
   },
   "outputs": [
    {
     "name": "stdout",
     "output_type": "stream",
     "text": [
      "[0, 1, 2, 3, 4, 5, 6, 7, 8, 9]\n",
      "[9, 8, 7, 6, 5, 4, 3, 2, 1, 0]\n"
     ]
    }
   ],
   "source": [
    "# 切片生成一个新的对象\n",
    "print(li)   # 还是保持原样\n",
    "\n",
    "re_li = li[::-1]\n",
    "print(re_li)"
   ]
  },
  {
   "cell_type": "markdown",
   "metadata": {},
   "source": [
    "# 列表推导\n",
    "\n",
    "问题的提出\n",
    "\n",
    "快速简单的生成一个列表\n",
    "\n",
    "对原有的列表进行简单的转换\n",
    "\n",
    "一维列表推导\n",
    "\n",
    "二维列表推导以及注意事项"
   ]
  },
  {
   "cell_type": "code",
   "execution_count": 30,
   "metadata": {
    "collapsed": true
   },
   "outputs": [
    {
     "name": "stdout",
     "output_type": "stream",
     "text": [
      "[0, 2, 4, 6, 8, 10, 12, 14, 16, 18]\n"
     ]
    }
   ],
   "source": [
    "li = []\n",
    "for i in range(20):\n",
    "    if (i % 2) == 0:\n",
    "        li.append(i)\n",
    "print(li)"
   ]
  },
  {
   "cell_type": "code",
   "execution_count": 31,
   "metadata": {
    "collapsed": true
   },
   "outputs": [
    {
     "name": "stdout",
     "output_type": "stream",
     "text": [
      "[1, 1, 1, 3, 1, 1, 1, 1, 1, 1]\n",
      "[0, 2, 4, 6, 8, 10, 12, 14, 16, 18]\n"
     ]
    }
   ],
   "source": [
    "li = [1] * 10\n",
    "li[3] = 3\n",
    "print(li)\n",
    "li = [i * 2 for i in range(10)]\n",
    "print(li)"
   ]
  },
  {
   "cell_type": "code",
   "execution_count": 32,
   "metadata": {
    "collapsed": true
   },
   "outputs": [
    {
     "name": "stdout",
     "output_type": "stream",
     "text": [
      "[[0, 0, 0], [0, 0, 0], [0, 0, 0]]\n",
      "[[100, 0, 0], [100, 0, 0], [100, 0, 0]]\n"
     ]
    }
   ],
   "source": [
    "# 创建数组时浅拷贝的问题\n",
    "li_2d = [[0] * 3] * 3\n",
    "print(li_2d)\n",
    "li_2d[0][0] = 100 # 这里将会修改3个值，因为用这种方式创建二维及以上维度时用的是浅拷贝\n",
    "print(li_2d)"
   ]
  },
  {
   "cell_type": "code",
   "execution_count": 33,
   "metadata": {
    "collapsed": true
   },
   "outputs": [
    {
     "name": "stdout",
     "output_type": "stream",
     "text": [
      "[[100, 0, 0], [0, 0, 0], [0, 0, 0]]\n"
     ]
    }
   ],
   "source": [
    "# 解决创建数组时浅拷贝的问题\n",
    "li_2d = [[0] * 3 for i in range(3)]\n",
    "li_2d[0][0] = 100\n",
    "print(li_2d)"
   ]
  },
  {
   "cell_type": "code",
   "execution_count": 34,
   "metadata": {
    "collapsed": true
   },
   "outputs": [
    {
     "name": "stdout",
     "output_type": "stream",
     "text": [
      "{0, 2, 4, 6, 8}\n",
      "{0: True, 1: False, 2: True, 3: False, 4: True, 5: False, 6: True, 7: False, 8: True, 9: False}\n"
     ]
    }
   ],
   "source": [
    "# 创建set\n",
    "s = {x for x in range(10) if x % 2 == 0}\n",
    "print(s)\n",
    "\n",
    "# 创建dict\n",
    "d = {x: x % 2 == 0 for x in range(10)}\n",
    "print(d)"
   ]
  },
  {
   "cell_type": "markdown",
   "metadata": {},
   "source": [
    "# 生成器\n",
    "\n",
    "问题的提出\n",
    "\n",
    "创建一个巨大的列表而仅仅需要访问其中少量几个元素\n",
    "\n",
    "如果列表元素可以按照某种算法推算出来，那我们是否可以在循环的过程中不断推算出后续的元素呢？这样就不必创建完整的list，从而节省大量的空间。\n",
    "\n",
    "生成生成器：列表推导时用()替换[]（关于yield的使用后面再讲）\n",
    "\n",
    "遍历：next或者for循环"
   ]
  },
  {
   "cell_type": "code",
   "execution_count": 35,
   "metadata": {
    "collapsed": true
   },
   "outputs": [
    {
     "name": "stdout",
     "output_type": "stream",
     "text": [
      "<class 'range'>\n"
     ]
    }
   ],
   "source": [
    "print(type(range(10)))"
   ]
  },
  {
   "cell_type": "code",
   "execution_count": 36,
   "metadata": {
    "collapsed": true
   },
   "outputs": [
    {
     "name": "stdout",
     "output_type": "stream",
     "text": [
      "0\n",
      "1\n",
      "4\n",
      "9\n",
      "16\n"
     ]
    }
   ],
   "source": [
    "# 平方表\n",
    "square_table = []\n",
    "for i in range(5000):\n",
    "    square_table.append(i * i)\n",
    "for i in range(5):\n",
    "    print(square_table[i])"
   ]
  },
  {
   "cell_type": "code",
   "execution_count": 37,
   "metadata": {
    "collapsed": true
   },
   "outputs": [
    {
     "name": "stdout",
     "output_type": "stream",
     "text": [
      "<class 'generator'>\n"
     ]
    }
   ],
   "source": [
    "square_generator = (x * x for x in range(50000))\n",
    "print(type(square_generator))"
   ]
  },
  {
   "cell_type": "code",
   "execution_count": 38,
   "metadata": {
    "collapsed": true
   },
   "outputs": [
    {
     "name": "stdout",
     "output_type": "stream",
     "text": [
      "0\n",
      "1\n",
      "4\n",
      "9\n",
      "16\n"
     ]
    }
   ],
   "source": [
    "for i in range(5):\n",
    "    print(next(square_generator))"
   ]
  },
  {
   "cell_type": "code",
   "execution_count": 39,
   "metadata": {
    "collapsed": true
   },
   "outputs": [
    {
     "name": "stdout",
     "output_type": "stream",
     "text": [
      "<class 'generator'>\n",
      "1\n",
      "1\n",
      "2\n",
      "3\n",
      "5\n"
     ]
    }
   ],
   "source": [
    "def fib(limit):\n",
    "    n, a, b = 0, 0, 1\n",
    "    while n < limit:\n",
    "        yield b\n",
    "        a, b = b, a + b\n",
    "        n += 1\n",
    "    return 'done'\n",
    "\n",
    "\n",
    "f = fib(5)\n",
    "print(type(f))\n",
    "print(next(f))\n",
    "print(next(f))\n",
    "print(next(f))\n",
    "print(next(f))\n",
    "print(next(f))"
   ]
  },
  {
   "cell_type": "code",
   "execution_count": 40,
   "metadata": {
    "collapsed": true
   },
   "outputs": [
    {
     "name": "stderr",
     "output_type": "stream",
     "text": [
      "Traceback (most recent call last):\n",
      "  File \"<ipython-input-40-28968900716f>\", line 3, in <module>\n",
      "    print(next(f))\n",
      "StopIteration: done\n"
     ]
    }
   ],
   "source": [
    "import traceback\n",
    "try:\n",
    "    print(next(f))\n",
    "except StopIteration:\n",
    "    traceback.print_exc()"
   ]
  },
  {
   "cell_type": "code",
   "execution_count": 41,
   "metadata": {
    "collapsed": true
   },
   "outputs": [
    {
     "name": "stdout",
     "output_type": "stream",
     "text": [
      "1\n",
      "1\n",
      "2\n",
      "3\n",
      "5\n"
     ]
    }
   ],
   "source": [
    "# 遍历\n",
    "for i in fib(5):\n",
    "    print(i)"
   ]
  },
  {
   "cell_type": "markdown",
   "metadata": {},
   "source": [
    "# 迭代器\n",
    "\n",
    "问题的提出\n",
    "\n",
    "可以直接作用于for循环的对象统称为可迭代对象：Iterable\n",
    "\n",
    "可以被next()函数调用并不断返回下一个值的对象称为迭代器：Iterator（表示一个惰性计算的序列）\n",
    "\n",
    "集合数据类型如list、dict、str等是Iterable但不是Iterator，不过可以通过iter()函数获得一个Iterator对象。"
   ]
  },
  {
   "cell_type": "code",
   "execution_count": 42,
   "metadata": {
    "collapsed": true
   },
   "outputs": [
    {
     "name": "stdout",
     "output_type": "stream",
     "text": [
      "True\n",
      "True\n",
      "False\n",
      "True\n",
      "False\n",
      "<class 'generator'>\n",
      "True\n",
      "True\n",
      "0\n",
      "1\n",
      "4\n",
      "9\n",
      "16\n",
      "25\n",
      "36\n",
      "49\n",
      "64\n",
      "81\n"
     ]
    }
   ],
   "source": [
    "from collections import Iterable\n",
    "from collections import Iterator\n",
    "\n",
    "print(isinstance([1, 2, 3], Iterable))\n",
    "print(isinstance({}, Iterable))\n",
    "print(isinstance(123, Iterable))\n",
    "print(isinstance('abc', Iterable))\n",
    "\n",
    "print(isinstance([1, 2, 3], Iterator))\n",
    "\n",
    "g = (x * x for x in range(10))\n",
    "print(type(g))\n",
    "print(isinstance(g, Iterable))\n",
    "print(isinstance(g, Iterator))\n",
    "for i in g:\n",
    "    print(i)"
   ]
  },
  {
   "cell_type": "code",
   "execution_count": 43,
   "metadata": {
    "collapsed": true
   },
   "outputs": [
    {
     "name": "stdout",
     "output_type": "stream",
     "text": [
      "<class 'generator'>\n",
      "True\n",
      "True\n",
      "1\n",
      "1\n",
      "2\n",
      "3\n",
      "5\n",
      "8\n"
     ]
    }
   ],
   "source": [
    "def fib(limit):\n",
    "    n, a, b = 0, 0, 1\n",
    "    while n < limit:\n",
    "        yield b\n",
    "        a, b = b, a + b\n",
    "        n += 1\n",
    "    return 'done'\n",
    "\n",
    "\n",
    "f = fib(6)\n",
    "print(type(f))\n",
    "print(isinstance(f, Iterable))\n",
    "print(isinstance(f, Iterator))\n",
    "for i in f:\n",
    "    print(i)"
   ]
  },
  {
   "cell_type": "markdown",
   "metadata": {},
   "source": [
    "参考资料：七月在线课程"
   ]
  }
 ],
 "metadata": {
  "kernelspec": {
   "display_name": "Python 3",
   "language": "python",
   "name": "python3"
  },
  "language_info": {
   "codemirror_mode": {
    "name": "ipython",
    "version": 3
   },
   "file_extension": ".py",
   "mimetype": "text/x-python",
   "name": "python",
   "nbconvert_exporter": "python",
   "pygments_lexer": "ipython3",
   "version": "3.6.1"
  }
 },
 "nbformat": 4,
 "nbformat_minor": 2
}
