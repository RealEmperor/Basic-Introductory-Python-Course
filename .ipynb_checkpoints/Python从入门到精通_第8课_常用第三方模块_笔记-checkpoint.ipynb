{
 "cells": [
  {
   "cell_type": "markdown",
   "metadata": {
    "collapsed": true
   },
   "source": [
    "下面列出的第三方库都比较常用，每一个库的内容都很多，这里只列出了对应的文档，想要深入了解的就参考文档吧 ^ _ ^\n",
    "\n",
    "\n",
    "# 数值计算 numpy\n",
    "\n",
    "参考：https://numpy.org/devdocs/\n",
    "\n",
    "# 数据处理分析 pandas\n",
    "\n",
    "参考：https://pandas.pydata.org/pandas-docs/stable/\n",
    "\n",
    "# 可视化 matplotlib\n",
    "\n",
    "参考：https://matplotlib.org/\n",
    "\n",
    "# 可视化 seaborn\n",
    "\n",
    "参考：http://seaborn.pydata.org/\n",
    "\n",
    "\n",
    "# 机器学习 sklearn\n",
    "\n",
    "参考：https://sklearn.apachecn.org\n",
    "\n",
    "# 机器学习 keras\n",
    "\n",
    "参考：https://keras-cn.readthedocs.io/en/latest/\n",
    "\n",
    "# 交互 pygame\n",
    "\n",
    "参考：https://www.pygame.org/wiki/GettingStarted\n",
    "\n",
    "# 网络 Selenium\n",
    "\n",
    "参考：\n",
    "\n",
    "https://www.seleniumhq.org/docs/\n",
    "\n",
    "http://www.selenium.org.cn/category/python\n"
   ]
  }
 ],
 "metadata": {
  "kernelspec": {
   "display_name": "Python 3",
   "language": "python",
   "name": "python3"
  },
  "language_info": {
   "codemirror_mode": {
    "name": "ipython",
    "version": 3
   },
   "file_extension": ".py",
   "mimetype": "text/x-python",
   "name": "python",
   "nbconvert_exporter": "python",
   "pygments_lexer": "ipython3",
   "version": "3.6.1"
  }
 },
 "nbformat": 4,
 "nbformat_minor": 2
}
