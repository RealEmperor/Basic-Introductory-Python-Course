{
 "cells": [
  {
   "cell_type": "markdown",
   "metadata": {},
   "source": [
    "# 变量和类型\n",
    "\n",
    "## 基本变量类型\n",
    "整数 int\n",
    "\n",
    "浮点数 float\n",
    "\n",
    "字符串 str\n",
    "\n",
    "布尔值 bool\n",
    "\n",
    "空值 NoneType\n",
    "\n",
    "函数 function\n",
    "\n",
    "模块 module\n",
    "\n",
    "## 变量定义\n",
    "变量存储在内存中的值。这就意味着在创建变量时会在内存中开辟一个空间。\n",
    "基于变量的数据类型，解释器会分配指定内存，并决定什么数据可以被存储在内存中。\n",
    "变量可以指定不同的数据类型，这些变量可以存储整数，小数或字符。（弱类型）\n",
    "\n",
    "## 变量赋值\n",
    "每个变量在使用前都必须赋值，变量赋值以后该变量才会被创建。（重要！！！）\n",
    "等号（=）用来给变量赋值，等号（=）运算符左边是一个变量名,等号（=）运算符右边是存储在变量中的值。"
   ]
  },
  {
   "cell_type": "code",
   "execution_count": 1,
   "metadata": {},
   "outputs": [
    {
     "name": "stdout",
     "output_type": "stream",
     "text": [
      "<class 'NoneType'>\n",
      "<class 'bool'>\n",
      "<class 'int'>\n",
      "<class 'float'>\n",
      "<class 'float'>\n",
      "<class 'str'>\n"
     ]
    }
   ],
   "source": [
    "# 基本类型\n",
    "print(type(None))\n",
    "print(type(True))\n",
    "print(type(12345))\n",
    "print(type(123.45))\n",
    "print(type(1234.))\n",
    "print(type('abc'))"
   ]
  },
  {
   "cell_type": "code",
   "execution_count": 2,
   "metadata": {},
   "outputs": [
    {
     "name": "stdout",
     "output_type": "stream",
     "text": [
      "<class 'list'>\n",
      "<class 'tuple'>\n",
      "<class 'float'>\n",
      "<class 'set'>\n",
      "<class 'dict'>\n"
     ]
    }
   ],
   "source": [
    "# 容器类型\n",
    "print(type([1, 2, 3, 'a', 'bc']))\n",
    "print(type((1, 2, 3, 'abc')))\n",
    "values = ['abc', 1, 2, 3.]\n",
    "print(type(values[3]))\n",
    "print(type(set(['a', 1, 2.])))\n",
    "print(type({'a': 123, 4: 'bcd', 5: 'efg'}))"
   ]
  },
  {
   "cell_type": "code",
   "execution_count": 3,
   "metadata": {},
   "outputs": [
    {
     "name": "stdout",
     "output_type": "stream",
     "text": [
      "<class 'function'>\n"
     ]
    }
   ],
   "source": [
    "# 函数\n",
    "def func():\n",
    "    print(100)\n",
    "\n",
    "\n",
    "print(type(func))"
   ]
  },
  {
   "cell_type": "code",
   "execution_count": 6,
   "metadata": {},
   "outputs": [
    {
     "name": "stdout",
     "output_type": "stream",
     "text": [
      "<class 'module'>\n"
     ]
    }
   ],
   "source": [
    "# 模块\n",
    "import string\n",
    "print(type(string))"
   ]
  },
  {
   "cell_type": "code",
   "execution_count": 5,
   "metadata": {},
   "outputs": [
    {
     "name": "stdout",
     "output_type": "stream",
     "text": [
      "<class 'type'>\n",
      "<class '__main__.Cls'>\n"
     ]
    }
   ],
   "source": [
    "# 自定义类型与类型实例\n",
    "class Cls:\n",
    "    pass\n",
    "\n",
    "\n",
    "print(type(Cls))\n",
    "cls = Cls()\n",
    "print(type(cls))"
   ]
  },
  {
   "cell_type": "code",
   "execution_count": 7,
   "metadata": {},
   "outputs": [
    {
     "name": "stdout",
     "output_type": "stream",
     "text": [
      "NameError: name 'x' is not defined\n"
     ]
    }
   ],
   "source": [
    "# 变量赋值\n",
    "try:\n",
    "    print(x)    # 变量必须先赋值再使用\n",
    "except NameError:\n",
    "    print(\"NameError: name 'x' is not defined\")\n",
    "    \n",
    "x = 100\n",
    "x = 'abcd'  # x的类型不受限制"
   ]
  },
  {
   "cell_type": "markdown",
   "metadata": {},
   "source": [
    "# 常见字符串处理\n",
    "\n",
    "去除空格及特殊符号：strip, lstrip, rstrip\n",
    "\n",
    "\n",
    "复制字符串：str1 = str2\n",
    "\n",
    "\n",
    "连接字符串\n",
    "\n",
    "str2 += str1\n",
    "\n",
    "new_str = str2 + str1\n",
    "\n",
    "\n",
    "查找字符串：pos = str1.index(str2)\n",
    "\n",
    "\n",
    "比较字符串：cmp(str1, str2)\n",
    "\n",
    "\n",
    "字符串长度：len(str)\n",
    "\n",
    "\n",
    "大小写转换\n",
    "\n",
    "u_str = str.upper()\n",
    "\n",
    "l_str = str.lower()\n",
    "\n",
    "\n",
    "首字母大写：str.capitalize(); string.capword(str)\n",
    "\n",
    "\n",
    "分割与合并字符串：split, splitlines, join\n",
    "\n",
    "\n",
    "类型转换：int, float转换\n",
    "\n",
    "格式化字符串\n",
    "\n",
    "\n",
    "字符串测试\n",
    "\n",
    "str.startwith(prefix)\t\n",
    "\n",
    "str.endwith(suffix)\n",
    "\n",
    "str.isalnum() # 是否全是字母和数字，并至少有一个字符。\n",
    "\n",
    "str.isalpha() # 是否全是字母，并至少有一个字符。\n",
    "\n",
    "str.isdigit() # 是否全是数字，并至少有一个字符。\n",
    "\n",
    "str.isspace() # 是否全是空白字符，并至少有一个字符。\n",
    "\n",
    "str.islower() # 字母是否全是小写\n",
    "\n",
    "str.isupper() # 字母是否全是大写\n",
    "\n",
    "str.istitle() # 首字母是否大写\n"
   ]
  },
  {
   "cell_type": "code",
   "execution_count": 8,
   "metadata": {},
   "outputs": [
    {
     "name": "stdout",
     "output_type": "stream",
     "text": [
      "abcd efg\n",
      "abcd efg  \n",
      " abcd efg\n",
      " abcd efg  \n"
     ]
    }
   ],
   "source": [
    "# strip去除空格\n",
    "s = ' abcd efg  '\n",
    "print(s.strip())\n",
    "print(s.lstrip())\n",
    "print(s.rstrip())\n",
    "print(s)"
   ]
  },
  {
   "cell_type": "code",
   "execution_count": 9,
   "metadata": {},
   "outputs": [
    {
     "name": "stdout",
     "output_type": "stream",
     "text": [
      "abc_defg\n",
      "<class 'str'>\n"
     ]
    }
   ],
   "source": [
    "# 字符串连接\n",
    "print('abc_' + 'defg')\n",
    "s = 'abcdefg'\n",
    "s += '\\nhijk'\n",
    "print(str)"
   ]
  },
  {
   "cell_type": "code",
   "execution_count": 10,
   "metadata": {},
   "outputs": [
    {
     "name": "stdout",
     "output_type": "stream",
     "text": [
      "ABC DEFG\n",
      "abc defg\n",
      "Abc defg\n"
     ]
    }
   ],
   "source": [
    "# 大写小\n",
    "s = 'abc defg'\n",
    "print(s.upper())\n",
    "print(s.upper().lower())\n",
    "print(s.capitalize())"
   ]
  },
  {
   "cell_type": "code",
   "execution_count": 11,
   "metadata": {},
   "outputs": [
    {
     "name": "stdout",
     "output_type": "stream",
     "text": [
      "1\n",
      "ValueError: substring not found\n",
      "True\n",
      "False\n",
      "True\n"
     ]
    }
   ],
   "source": [
    "# 位置和比较\n",
    "s_1 = 'abcdefg'\n",
    "s_2 = 'abdefgh'\n",
    "print(s_1.index('bcd'))\n",
    "try:\n",
    "    print(s_1.index('bce'))\n",
    "except ValueError:\n",
    "    print('ValueError: substring not found')\n",
    "print(s_1 == s_1)  # cmp函数被Python3移除了\n",
    "print(s_1 > s_2)\n",
    "print(s_2 > s_1)"
   ]
  },
  {
   "cell_type": "code",
   "execution_count": 12,
   "metadata": {},
   "outputs": [
    {
     "name": "stdout",
     "output_type": "stream",
     "text": [
      "['abc', 'def', 'ghi']\n",
      "['123', '456', '789']\n",
      "123-456-789\n"
     ]
    }
   ],
   "source": [
    "# 分割和连接\n",
    "s = 'abc,def,ghi'\n",
    "print(s.split(','))\n",
    "s = '123\\n456\\n789'\n",
    "numbers = s.splitlines()\n",
    "print(numbers)\n",
    "print('-'.join(numbers))"
   ]
  },
  {
   "cell_type": "code",
   "execution_count": 13,
   "metadata": {},
   "outputs": [
    {
     "name": "stdout",
     "output_type": "stream",
     "text": [
      "True\n",
      "True\n",
      "True\n",
      "False\n",
      "True\n",
      "True\n",
      "True\n",
      "True\n",
      "True\n",
      "False\n"
     ]
    }
   ],
   "source": [
    "# 常用判断\n",
    "s = 'abcdefg'\n",
    "print(s.startswith('abc'))\n",
    "print(s.endswith('efg'))\n",
    "print('abcd1234'.isalnum())\n",
    "print('\\tabcd1234'.isalnum())\n",
    "print('abcd'.isalpha())\n",
    "print('12345'.isdigit())\n",
    "print('  '.isspace())\n",
    "print('acb125'.islower())\n",
    "print('A1B2C'.isupper())\n",
    "print('Hello world!'.istitle())"
   ]
  },
  {
   "cell_type": "code",
   "execution_count": 14,
   "metadata": {},
   "outputs": [
    {
     "name": "stdout",
     "output_type": "stream",
     "text": [
      "5\n",
      "5.0\n",
      "-5.23\n",
      "1234\n",
      "-23.456\n"
     ]
    }
   ],
   "source": [
    "# 数字到字符串\n",
    "print(str(5))\n",
    "print(str(5.))\n",
    "print(str(-5.23))\n",
    "print(int('1234'))\n",
    "print(float('-23.456'))"
   ]
  },
  {
   "cell_type": "code",
   "execution_count": 15,
   "metadata": {},
   "outputs": [
    {
     "name": "stdout",
     "output_type": "stream",
     "text": [
      "Hello world!\n",
      "4--2.30-hello\n"
     ]
    }
   ],
   "source": [
    "# 格式化字符串\n",
    "print('Hello %s!' % 'world')\n",
    "print('%d-%.2f-%s' % (4, -2.3, 'hello'))"
   ]
  },
  {
   "cell_type": "markdown",
   "metadata": {},
   "source": [
    "# 条件判断\n",
    "\n",
    "真值判断\n",
    "\n",
    "if x == True:\n",
    "\n",
    "if x:\n",
    "\n",
    "if not x:\n",
    "\n",
    "空值判断\n",
    "\n",
    "if x is None:\n",
    "\n",
    "if not x:\n",
    "\n",
    "比较\n",
    "\n",
    "if a == b:\n",
    "\n",
    "if a > b:\n",
    "\n",
    "..."
   ]
  },
  {
   "cell_type": "code",
   "execution_count": null,
   "metadata": {
    "collapsed": true
   },
   "outputs": [],
   "source": [
    "# if判断\n",
    "a = 100\n",
    "b = 200\n",
    "c = 300\n",
    "if c == a:\n",
    "    print(a)\n",
    "elif c == b:\n",
    "    print(b)\n",
    "else:\n",
    "    print(c)"
   ]
  },
  {
   "cell_type": "code",
   "execution_count": null,
   "metadata": {
    "collapsed": true
   },
   "outputs": [],
   "source": [
    "# None的判断\n",
    "x = None\n",
    "if x is None:\n",
    "    print('x is None')\n",
    "if not x:\n",
    "    print('x is None')"
   ]
  },
  {
   "cell_type": "markdown",
   "metadata": {},
   "source": [
    "# 循环控制\n",
    "\n",
    "for循环\n",
    "\n",
    "for i in range(begin, end, steps): <=> for (i = begin; i < end; i += steps)\n",
    "\n",
    "while循环\n",
    "\n",
    "while 条件判断:\n",
    "\n",
    "循环嵌套\n",
    "\n",
    "循环控制\n",
    "\n",
    "break\n",
    "\n",
    "continue\n",
    "\n",
    "pass"
   ]
  },
  {
   "cell_type": "code",
   "execution_count": null,
   "metadata": {
    "collapsed": true
   },
   "outputs": [],
   "source": [
    "# for循环\n",
    "s = 0\n",
    "for i in range(0, 101):\n",
    "    s += i\n",
    "print(s)"
   ]
  },
  {
   "cell_type": "code",
   "execution_count": null,
   "metadata": {
    "collapsed": true
   },
   "outputs": [],
   "source": [
    "# while循环\n",
    "s = 0\n",
    "i = 0\n",
    "while i <= 100:\n",
    "    s += i\n",
    "    i += 1\n",
    "print(s)"
   ]
  },
  {
   "cell_type": "code",
   "execution_count": null,
   "metadata": {
    "collapsed": true
   },
   "outputs": [],
   "source": [
    "# continue/pass/break\n",
    "for i in range(0, 100):\n",
    "    if i < 10:\n",
    "        pass\n",
    "    elif i < 30:\n",
    "        continue\n",
    "    elif i < 35:\n",
    "        print(i)\n",
    "    else:\n",
    "        break"
   ]
  },
  {
   "cell_type": "markdown",
   "metadata": {},
   "source": [
    "# 函数\n",
    "\n",
    "函数定义格式\n",
    "\n",
    "默认参数\n",
    "\n",
    "可变参数：*args，自动组装成tuple\n",
    "\n",
    "关键字参数：*args，自动组装成dict\n",
    "\n",
    "命名关键字参数\n",
    "\n",
    "函数调用\n",
    "\n",
    "函数名(参数名)\n",
    "\n",
    "模块名.函数名(参数名)\n",
    "\n",
    "带参数名调用\n",
    "\n",
    "什么是递归？"
   ]
  },
  {
   "cell_type": "code",
   "execution_count": 16,
   "metadata": {
    "collapsed": true
   },
   "outputs": [],
   "source": [
    "# 函数定义和默认参数\n",
    "def func(x, y=500):\n",
    "    print(x, y)\n",
    "\n",
    "\n",
    "func(150)\n",
    "func(100, 200)\n",
    "func(y=300, x=100)"
   ]
  },
  {
   "cell_type": "code",
   "execution_count": null,
   "metadata": {
    "collapsed": true
   },
   "outputs": [],
   "source": [
    "# 可变参数\n",
    "def func(name, *numbers):\n",
    "    print(name)\n",
    "    print(numbers)\n",
    "\n",
    "\n",
    "func('Tom', 1, 2, 3, 4)"
   ]
  },
  {
   "cell_type": "code",
   "execution_count": null,
   "metadata": {
    "collapsed": true
   },
   "outputs": [],
   "source": [
    "# 关键字参数\n",
    "def func(name, **kvs):\n",
    "    print(name)\n",
    "    print(kvs)\n",
    "    \n",
    "    \n",
    "func('Jack', china='Beijing', uk='London')"
   ]
  },
  {
   "cell_type": "code",
   "execution_count": null,
   "metadata": {
    "collapsed": true
   },
   "outputs": [],
   "source": [
    "# 命名关键字参数\n",
    "def func(*, china, uk):  # *用于和普通参数做分割，*args一样效果\n",
    "    print(china, uk)\n",
    "\n",
    "\n",
    "func(china='Beijing', uk='London')  # 必须传入参数名"
   ]
  },
  {
   "cell_type": "code",
   "execution_count": null,
   "metadata": {
    "collapsed": true
   },
   "outputs": [],
   "source": [
    "# 复杂情况\n",
    "def func(a, b, c=0, *args, **kvs):\n",
    "    print(a, b, c, args, kvs)\n",
    "\n",
    "\n",
    "func(1, 2)\n",
    "func(1, 2, 3)\n",
    "func(1, 2, 3, 'a', 'b')\n",
    "func(1, 2, 3, 'a', 'b', china='Beijing', uk='London')\n",
    "func(1, 2, 3, *('a', 'b'), **{'china': 'Beijing', 'uk': 'London'})"
   ]
  },
  {
   "cell_type": "code",
   "execution_count": null,
   "metadata": {
    "collapsed": true
   },
   "outputs": [],
   "source": [
    "# 递归的经典例子！\n",
    "# 斐波那契数列\n",
    "def fib(n):\n",
    "    if n < 1:\n",
    "        raise ValueError\n",
    "    elif (n == 1) or (n == 2):\n",
    "        return 1\n",
    "    else:\n",
    "        return fib(n - 1) + fib(n - 2)\n",
    "\n",
    "\n",
    "print(fib(1))\n",
    "print(fib(2))\n",
    "print(fib(3))\n",
    "print(fib(4))\n",
    "print(fib(5))\n",
    "print(fib(6))"
   ]
  },
  {
   "cell_type": "code",
   "execution_count": null,
   "metadata": {
    "collapsed": true
   },
   "outputs": [],
   "source": [
    "# 汉诺塔\n",
    "def move(n, source, target, helper):\n",
    "    if n == 1:\n",
    "        print(source + ' -> ' + target)\n",
    "    else:\n",
    "        move(n - 1, source, helper, target)\n",
    "        print(source + ' -> ' + target)\n",
    "        move(n - 1, helper, target, source)\n",
    "\n",
    "\n",
    "move(4, 'A', 'B', 'C')"
   ]
  }
 ],
 "metadata": {
  "kernelspec": {
   "display_name": "Python 3",
   "language": "python",
   "name": "python3"
  },
  "language_info": {
   "codemirror_mode": {
    "name": "ipython",
    "version": 3
   },
   "file_extension": ".py",
   "mimetype": "text/x-python",
   "name": "python",
   "nbconvert_exporter": "python",
   "pygments_lexer": "ipython3",
   "version": "3.6.1"
  }
 },
 "nbformat": 4,
 "nbformat_minor": 2
}
