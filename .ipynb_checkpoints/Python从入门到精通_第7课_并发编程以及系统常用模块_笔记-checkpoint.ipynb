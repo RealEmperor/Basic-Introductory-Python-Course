{
 "cells": [
  {
   "cell_type": "markdown",
   "metadata": {
    "collapsed": true
   },
   "source": [
    "# 进程与线程\n",
    "\n",
    "**进程**：程序的一次执行（程序装载入内存，系统分配资源运行）。\n",
    "每个进程有自己的内存空间、数据栈等，只能使用进程间通讯，而不能直接共享信息。\n",
    "\n",
    "**线程**：所有线程运行在同一个进程中，共享相同的运行环境。\n",
    "每个独立的线程有一个程序运行的入口、顺序执行序列和程序的出口。\n",
    "线程的运行可以被抢占（中断），或暂时被挂起（睡眠），让其他线程运行（让步）。\n",
    "一个进程中的各个线程间共享同一片数据空间。\n",
    "\n",
    "# 全局解释器锁GIL\n",
    "\n",
    "GIL全称全局解释器锁Global Interpreter Lock， GIL 并不是Python的特性，它是在实现Python解析器(CPython)时所引入的一个概念。\n",
    "\n",
    "GIL是一把全局排他锁，同一时刻只有一个线程在运行。\n",
    "毫无疑问全局锁的存在会对多线程的效率有不小影响。甚至就几乎等于Python是个单线程的程序。\n",
    "\n",
    "multiprocessing库的出现很大程度上是为了弥补thread库，因为GIL而低效的缺陷。它完整的复制了一套thread所提供的接口方便迁移。唯一的不同就是它使用了多进程而不是多线程。每个进程有自己的独立的GIL，因此也不会出现进程之间的GIL争抢。\n",
    "\n",
    "# 顺序执行单线程与同时执行两个并发线程\n",
    "\n",
    "join阻塞进程直到线程执行完毕"
   ]
  },
  {
   "cell_type": "code",
   "execution_count": null,
   "metadata": {
    "collapsed": true
   },
   "outputs": [],
   "source": [
    "\"\"\"\n",
    "顺序执行单线程与同时执行两个并发线程\n",
    "\"\"\"\n",
    "from threading import Thread\n",
    "import time\n",
    "\n",
    "\n",
    "def my_counter():\n",
    "    i = 0\n",
    "    for _ in range(10000000):\n",
    "        i = i + 1\n",
    "    return True\n",
    "\n",
    "\n",
    "# 顺序执行\n",
    "def main():\n",
    "    thread_array = {}\n",
    "    start_time = time.time()\n",
    "    for tid in range(2):\n",
    "        t = Thread(target=my_counter())\n",
    "        t.start()\n",
    "        t.join()  # 阻塞进程直到线程执行完毕\n",
    "    end_time = time.time()\n",
    "    print(\"Total time: {}\".format(end_time - start_time))\n",
    "\n",
    "\n",
    "# 并发执行\n",
    "def main2():\n",
    "    thread_array = {}\n",
    "    start_time = time.time()\n",
    "    for tid in range(2):\n",
    "        t = Thread(target=my_counter())\n",
    "        t.start()\n",
    "        thread_array[tid] = t\n",
    "    for i in range(2):\n",
    "        thread_array[i].join()\n",
    "    end_time = time.time()\n",
    "    print(\"Total time: {}\".format(end_time - start_time))\n"
   ]
  },
  {
   "cell_type": "code",
   "execution_count": null,
   "metadata": {
    "collapsed": true
   },
   "outputs": [],
   "source": [
    "main()"
   ]
  },
  {
   "cell_type": "code",
   "execution_count": null,
   "metadata": {
    "collapsed": true
   },
   "outputs": [],
   "source": [
    "main2()"
   ]
  },
  {
   "cell_type": "markdown",
   "metadata": {
    "collapsed": true
   },
   "source": [
    "# Python 多进程（ multiprocessing）\n",
    "\n",
    "**fork操作**：\n",
    "\n",
    "调用一次，返回两次。因为操作系统自动把当前进程（称为父进程）复制了一份（称为子进程）， 然后分别在父进程和子进程内返回。子进程永远返回0，而父进程返回子进程的ID。子进程只需要调用getppid()就可以拿到父进程的ID。\n",
    "\n",
    "由于Windows没有fork调用，下面的代码在Windows上无法运行。"
   ]
  },
  {
   "cell_type": "code",
   "execution_count": null,
   "metadata": {
    "collapsed": true
   },
   "outputs": [],
   "source": [
    "import os\n",
    "\n",
    "if __name__ == '__main__':\n",
    "    print('Process (%s) start...' % os.getpid())\n",
    "    pid = os.fork()\n",
    "    print(pid)\n",
    "    if pid == 0:\n",
    "        print('I am child process (%s) and my parent is %s.' % (os.getpid(), os.getppid()))\n",
    "    else:\n",
    "        print('I (%s) just created a child process (%s).' % (os.getpid(), pid))\n"
   ]
  },
  {
   "cell_type": "markdown",
   "metadata": {
    "collapsed": true
   },
   "source": [
    "multiprocessing是跨平台版本的多进程模块，它提供了一个Process类来代表一个进程对象，下面是示例代码:\n"
   ]
  },
  {
   "cell_type": "code",
   "execution_count": null,
   "metadata": {
    "collapsed": true
   },
   "outputs": [],
   "source": [
    "from multiprocessing import Process\n",
    "import time\n",
    "\n",
    "\n",
    "def f(n):\n",
    "    time.sleep(1)\n",
    "    print(n * n)\n",
    "\n",
    "\n",
    "if __name__ == '__main__':\n",
    "    for i in range(10):\n",
    "        p = Process(target=f, args=[i, ])\n",
    "        p.start()\n"
   ]
  },
  {
   "cell_type": "markdown",
   "metadata": {
    "collapsed": true
   },
   "source": [
    "这个程序如果用单进程写则需要执行10秒以上的时间，而用多进程则启动10个进程并行执行，只需要用1秒多的时间。\n",
    "\n",
    "# 进程间通信Queue\n",
    "\n",
    "Queue是多进程安全的队列，可以使用Queue实现多进程之间的数据传递。"
   ]
  },
  {
   "cell_type": "code",
   "execution_count": null,
   "metadata": {
    "collapsed": true
   },
   "outputs": [],
   "source": [
    "\"\"\"\n",
    "进程间通信Queue\n",
    "\"\"\"\n",
    "from multiprocessing import Process, Queue\n",
    "import time\n",
    "\n",
    "\n",
    "def write(q):\n",
    "    for i in list('ABCDE'):\n",
    "        print('Put %s to queue' % i)\n",
    "        q.put(i)\n",
    "        time.sleep(0.5)\n",
    "\n",
    "\n",
    "def read(q):\n",
    "    while True:\n",
    "        v = q.get(True)\n",
    "        print('Get %s from queue' % v)\n",
    "\n",
    "\n",
    "if __name__ == '__main__':\n",
    "    q = Queue()\n",
    "    pw = Process(target=write, args=(q,))\n",
    "    pr = Process(target=read, args=(q,))\n",
    "    pw.start()\n",
    "    pr.start()\n",
    "    pr.join()\n",
    "    pr.terminate()\n",
    "    pw.terminate()\n"
   ]
  },
  {
   "cell_type": "markdown",
   "metadata": {
    "collapsed": true
   },
   "source": [
    "# 进程池Pool\n",
    "\n",
    "用于批量创建子进程，可以灵活控制子进程的数量"
   ]
  },
  {
   "cell_type": "code",
   "execution_count": null,
   "metadata": {
    "collapsed": true
   },
   "outputs": [],
   "source": [
    "\"\"\"\n",
    "进程池Pool\n",
    "用于批量子创建进程，可以灵活控制子进程的数量\n",
    "\"\"\"\n",
    "from multiprocessing import Pool\n",
    "import time\n",
    "\n",
    "\n",
    "def f(x):\n",
    "    x = x * x\n",
    "    print(x)\n",
    "    time.sleep(2)\n",
    "    return x\n",
    "\n",
    "\n",
    "if __name__ == '__main__':\n",
    "    # 定义启动的进程数量\n",
    "    pool = Pool(processes=5)\n",
    "    res_list = []\n",
    "    for i in range(10):\n",
    "        # 以异步并行的方式启动进程，如果要同步等待的方式，\n",
    "        # 可以在每次启动进程之后调用res.get()方法，也可以使用Pool.apply\n",
    "        res = pool.apply_async(f, [i, ])\n",
    "        print('--------:', i)\n",
    "        res_list.append(res)\n",
    "    pool.close()\n",
    "    pool.join()\n",
    "    for r in res_list:\n",
    "        print('result', (r.get(timeout=5)))\n"
   ]
  },
  {
   "cell_type": "markdown",
   "metadata": {
    "collapsed": true
   },
   "source": [
    "# 多进程与多线程对比\n",
    "\n",
    "在一般情况下多个进程的内存资源是相互独立的，而多线程可以共享同一个进程中的内存资源"
   ]
  },
  {
   "cell_type": "code",
   "execution_count": null,
   "metadata": {
    "collapsed": true
   },
   "outputs": [],
   "source": [
    "from multiprocessing import Process\n",
    "import threading\n",
    "import time\n",
    "\n",
    "lock = threading.Lock()\n",
    "\n",
    "\n",
    "def run(info_list, n):\n",
    "    lock.acquire()\n",
    "    info_list.append(n)\n",
    "    lock.release()\n",
    "    print('%s\\n' % info_list)\n",
    "\n",
    "\n",
    "if __name__ == '__main__':\n",
    "    info = []\n",
    "    for i in range(10):\n",
    "        # target为子进程执行的函数，args为需要给函数传递的参数\n",
    "        p = Process(target=run, args=[info, i])\n",
    "        p.start()\n",
    "        p.join()\n",
    "    time.sleep(1)  # 这里是为了输出整齐让主进程的执行等一下子进程\n",
    "    print('------------threading--------------')\n",
    "    for i in range(10):\n",
    "        p = threading.Thread(target=run, args=[info, i])\n",
    "        p.start()\n",
    "        p.join()\n"
   ]
  },
  {
   "cell_type": "markdown",
   "metadata": {
    "collapsed": true
   },
   "source": [
    "# 函数式编程\n",
    "\n",
    "## 三大特性：\n",
    "\n",
    "immutable data 不可变数据\n",
    "\n",
    "first class functions：函数像变量一样使用\n",
    "\n",
    "尾递归优化：每次递归都重用stack\n",
    "\n",
    "## 好处：\n",
    "\n",
    "parallelization 并行\n",
    "\n",
    "lazy evaluation 惰性求值\n",
    "\n",
    "determinism 确定性"
   ]
  },
  {
   "cell_type": "code",
   "execution_count": null,
   "metadata": {
    "collapsed": true
   },
   "outputs": [],
   "source": [
    "def inc(x):\n",
    "    def incx(y):\n",
    "        return x + y\n",
    "\n",
    "    return incx\n",
    "\n",
    "\n",
    "inc2 = inc(2)\n",
    "inc5 = inc(5)\n",
    "\n",
    "print(inc2(5))  # 输出 7\n",
    "print(inc5(5))  # 输出 10\n"
   ]
  },
  {
   "cell_type": "markdown",
   "metadata": {},
   "source": [
    "**lambda**:快速定义单行的最小函数， inline的匿名函数"
   ]
  },
  {
   "cell_type": "code",
   "execution_count": null,
   "metadata": {
    "collapsed": true
   },
   "outputs": [],
   "source": [
    "g = lambda x: x * 2\n",
    "print(g(3))\n",
    "print((lambda x: x * 2)(4))"
   ]
  },
  {
   "cell_type": "markdown",
   "metadata": {
    "collapsed": true
   },
   "source": [
    "**map(function, sequence)**：对sequence中的item依次执行function(item)，执行结果组成一个List返回"
   ]
  },
  {
   "cell_type": "code",
   "execution_count": null,
   "metadata": {
    "collapsed": true
   },
   "outputs": [],
   "source": [
    "# 一般写法\n",
    "for n in [\"qi\", \"yue\", \"July\"]:\n",
    "    print(len(n))"
   ]
  },
  {
   "cell_type": "code",
   "execution_count": null,
   "metadata": {
    "collapsed": true
   },
   "outputs": [],
   "source": [
    "# map写法\n",
    "name_len = map(len, [\"qi\", \"yue\", \"July\"])\n",
    "print(list(name_len))"
   ]
  },
  {
   "cell_type": "code",
   "execution_count": null,
   "metadata": {
    "collapsed": true
   },
   "outputs": [],
   "source": [
    "# map写法\n",
    "def toUpper(item):\n",
    "    return item.upper()\n",
    "\n",
    "upper_name = map(toUpper, [\"qi\", \"yue\", \"July\"])\n",
    "print(list(upper_name))"
   ]
  },
  {
   "cell_type": "code",
   "execution_count": null,
   "metadata": {
    "collapsed": true
   },
   "outputs": [],
   "source": [
    "# 一般写法\n",
    "items = [1, 2, 3, 4, 5]\n",
    "squared = []\n",
    "for i in items:\n",
    "    squared.append(i ** 2)\n",
    "print(squared)"
   ]
  },
  {
   "cell_type": "code",
   "execution_count": null,
   "metadata": {
    "collapsed": true
   },
   "outputs": [],
   "source": [
    "# map写法\n",
    "items = [1, 2, 3, 4, 5]\n",
    "squared = list(map(lambda x: x ** 2, items))\n",
    "print(squared)"
   ]
  },
  {
   "cell_type": "markdown",
   "metadata": {
    "collapsed": true
   },
   "source": [
    "**filter(function, sequence)**：对sequence中的item依次执行function(item)，将执行结果为True的item组成一个List/String/Tuple（取决于sequence的类型）返回"
   ]
  },
  {
   "cell_type": "code",
   "execution_count": null,
   "metadata": {
    "collapsed": true
   },
   "outputs": [],
   "source": [
    "number_list = range(-5, 5)\n",
    "less_than_zero = list(filter(lambda x: x < 0, number_list))\n",
    "print(less_than_zero)"
   ]
  },
  {
   "cell_type": "markdown",
   "metadata": {
    "collapsed": true
   },
   "source": [
    "**reduce(function, sequence, starting_value)**：对sequence中的item顺序迭代调用function，如果有starting_value，还可以作为初始值调用"
   ]
  },
  {
   "cell_type": "code",
   "execution_count": null,
   "metadata": {
    "collapsed": true
   },
   "outputs": [],
   "source": [
    "from functools import reduce\n",
    "\n",
    "\n",
    "def add(x, y): return x + y\n",
    "\n",
    "# 无初始值\n",
    "print(reduce(add, range(1, 5)))\n",
    "# 初始值为10\n",
    "print(reduce(add, range(1, 5), 10))\n"
   ]
  },
  {
   "cell_type": "markdown",
   "metadata": {
    "collapsed": true
   },
   "source": [
    "例子：计算数组中正数的平均数"
   ]
  },
  {
   "cell_type": "code",
   "execution_count": null,
   "metadata": {
    "collapsed": true
   },
   "outputs": [],
   "source": [
    "# 正常写法：\n",
    "num = [2, -5, 9, 7, -2, 5, 3, 1, 0, -3, 8]\n",
    "positive_num_cnt = 0\n",
    "positive_num_sum = 0\n",
    "for i in range(len(num)):\n",
    "    if num[i] > 0:\n",
    "        positive_num_cnt += 1\n",
    "        positive_num_sum += num[i]\n",
    "\n",
    "if positive_num_cnt > 0:\n",
    "    average = positive_num_sum / positive_num_cnt\n",
    "\n",
    "print(average)  # 输出 5\n"
   ]
  },
  {
   "cell_type": "code",
   "execution_count": null,
   "metadata": {
    "collapsed": true
   },
   "outputs": [],
   "source": [
    "# 函数式写法：\n",
    "from functools import reduce\n",
    "\n",
    "num = [2, -5, 9, 7, -2, 5, 3, 1, 0, -3, 8]\n",
    "positive_num = list(filter(lambda x: x > 0, num))\n",
    "average = (reduce(lambda x, y: x + y, positive_num)) / len(positive_num)\n",
    "print(average)\n"
   ]
  },
  {
   "cell_type": "markdown",
   "metadata": {
    "collapsed": true
   },
   "source": [
    "# Hadoop\n",
    "\n",
    "Hadoop是Apache开源组织的一个分布式计算开源框架。\n",
    "\n",
    "核心的设计就是： MapReduce和HDFS（Hadoop Distributed File System）\n",
    "\n",
    "![Hadoop](data/hadoop.png)\n",
    "\n",
    "## MapReducer\n",
    "\n",
    "思想：任务的分解与结果的汇总\n",
    "\n",
    "下图展示了如何通过MapReduce的思想汇总单词数量\n",
    "\n",
    "![MapReduce](data/mapreduce.png)\n",
    "\n",
    "## 基于Linux管道的MapReducer"
   ]
  },
  {
   "cell_type": "code",
   "execution_count": null,
   "metadata": {
    "collapsed": true
   },
   "outputs": [],
   "source": [
    "# mapper.py\n",
    "import sys\n",
    "\n",
    "for line in sys.stdin:\n",
    "    ls = line.split()\n",
    "    for word in ls:\n",
    "        if len(word.strip()) != 0:\n",
    "            print(word + ',' + str(1))\n"
   ]
  },
  {
   "cell_type": "code",
   "execution_count": null,
   "metadata": {
    "collapsed": true
   },
   "outputs": [],
   "source": [
    "# mapper.py\n",
    "import sys\n",
    "\n",
    "word_dict = {}\n",
    "for line in sys.stdin:\n",
    "    ls = line.split(',')\n",
    "    word_dict.setdefault(ls[0], 0)\n",
    "    word_dict[ls[0]] += int(ls[1])\n",
    "\n",
    "for word in word_dict:\n",
    "    print(word, word_dict[word])\n"
   ]
  },
  {
   "cell_type": "markdown",
   "metadata": {},
   "source": [
    "wordcount.input 文件内容"
   ]
  },
  {
   "cell_type": "code",
   "execution_count": null,
   "metadata": {
    "collapsed": true
   },
   "outputs": [],
   "source": [
    "hello\n",
    "world\n",
    "hello world\n",
    "hi world"
   ]
  },
  {
   "cell_type": "markdown",
   "metadata": {},
   "source": [
    "在Linux 命令行中执行下面语句，把文件wordcount.input的内容通过mapper和reducer处理后按照第二列倒序排列输出"
   ]
  },
  {
   "cell_type": "code",
   "execution_count": null,
   "metadata": {
    "collapsed": true
   },
   "outputs": [],
   "source": [
    "$ cat wordcount.input | python mapper.py | python reducer.py | sort -k 2r"
   ]
  },
  {
   "cell_type": "markdown",
   "metadata": {
    "collapsed": true
   },
   "source": [
    "输出结果：\n",
    "\n",
    "world 3\n",
    "\n",
    "hello 2\n",
    "\n",
    "hi 1"
   ]
  },
  {
   "cell_type": "markdown",
   "metadata": {
    "collapsed": true
   },
   "source": [
    "## Hadoop Streaming & mrjob\n",
    "\n",
    "Hadoop有Java和Streaming两种方式来编写MapReduce任务。\n",
    "\n",
    "Java的优点是计算效率高，并且部署方便，直接打包成一个jar文件就行了。\n",
    "\n",
    "Hadoop Streaming是Hadoop提供的一个编程工具，它允许用户使用任何可执行文件或者脚本文件作为Mapper和Reducer。\n",
    "\n",
    "Streaming单机测试：\n",
    "\n",
    "cat input | mapper | sort | reducer > output\n",
    "\n",
    "mrjob实质上就是在Hadoop Streaming的命令行上包了一层，有了统一的Python界面，无需你再去直接调用Hadoop Streaming命令。\n",
    "\n",
    "## Mrjob实现wordcount"
   ]
  },
  {
   "cell_type": "code",
   "execution_count": null,
   "metadata": {
    "collapsed": true
   },
   "outputs": [],
   "source": [
    "from mrjob.job import MRJob\n",
    "\n",
    "\n",
    "class MRWordFrequencyCount(MRJob):\n",
    "    def mapper(self, _, line):\n",
    "        yield \"chars\", len(line)\n",
    "        yield \"words\", len(line.split())\n",
    "        yield \"lines\", 1\n",
    "\n",
    "    def reducer(self, key, values):\n",
    "        yield key, sum(values)\n",
    "\n",
    "\n",
    "if __name__ == '__main__':\n",
    "    MRWordFrequencyCount.run()"
   ]
  },
  {
   "cell_type": "markdown",
   "metadata": {},
   "source": [
    "# Spark\n",
    "\n",
    "Spark是基于map reduce算法实现的分布式计算框架：\n",
    "\n",
    "Spark的中间输出和结果输出可以保存在**内存**中，从而不再需要读写HDFS。\n",
    "\n",
    "Spark能更好地用于数据挖掘与机器学习等需要**迭代**的map reduce的算法中。\n",
    "\n",
    "![spark](data/spark.png)\n",
    "\n",
    "## Spark与Hadoop结合\n",
    "\n",
    "Spark可以直接对HDFS进行数据的读写，同样支持Spark on YARN。 Spark可以与MapReduce运行于同集群中，共享存储资源与计算。\n",
    "\n",
    ">* 本地模式\n",
    ">* Standalone模式\n",
    ">* Mesoes模式\n",
    ">* yarn模式\n",
    "\n",
    "\n",
    "## RDD\n",
    "\n",
    "弹性分布式数据集Resilient Distributed Datasets：\n",
    "\n",
    ">* 集群节点上不可变、已分区对象\n",
    ">* 可序列化\n",
    ">* 可以控制存储级别（内存、 磁盘等）来进行重用。\n",
    "\n",
    "计算特性：\n",
    "\n",
    ">* 血统lineage\n",
    ">* 惰性计算lazy evaluation\n",
    "\n",
    "生成方式：\n",
    "\n",
    ">* 文件读取\n",
    ">* 来自父RDD\n",
    "\n",
    "### 算子： Transformations & Actions\n",
    "\n",
    "参考：http://spark.apache.org/docs/latest/rdd-programming-guide.html\n",
    "\n",
    "## Spark运算逻辑\n",
    "\n",
    "![Spark运算逻辑](data/spark2.png)\n",
    "\n",
    "## PySpark实现WordCount"
   ]
  },
  {
   "cell_type": "code",
   "execution_count": null,
   "metadata": {
    "collapsed": true
   },
   "outputs": [],
   "source": [
    "import sys\n",
    "from operator import add\n",
    "from pyspark import SparkContext\n",
    "\n",
    "sc = SparkContext()\n",
    "\n",
    "lines = sc.textFile(\"data/stormofswords.csv\")\n",
    "counts = lines.flatMap(lambda x: x.split(',')) \\\n",
    "    .map(lambda x: (x, 1)) \\\n",
    "    .reduceByKey(add)\n",
    "output = counts.collect()\n",
    "output = filter(lambda x: not x[0].isnumeric(), sorted(output, key=lambda x: x[1], reverse=True))\n",
    "for (word, count) in output[:10]:\n",
    "    print(\"%s: %i\" % (word, count))\n",
    "\n",
    "sc.stop()\n"
   ]
  },
  {
   "cell_type": "markdown",
   "metadata": {
    "collapsed": true
   },
   "source": [
    "# 正则表达式\n",
    "\n",
    "两种模式匹配：搜索search()和匹配match()"
   ]
  },
  {
   "cell_type": "code",
   "execution_count": null,
   "metadata": {
    "collapsed": true
   },
   "outputs": [],
   "source": [
    "import re\n",
    "\n",
    "m = re.match(r'dog', 'dog cat dog')\n",
    "print(m.group())\n",
    "print(re.match(r'cat', 'dog cat dog'))\n",
    "s = re.search(r'cat', 'dog cat dog')\n",
    "print(s.group())\n",
    "print(re.findall(r'dog', 'dog cat dog'))\n"
   ]
  },
  {
   "cell_type": "code",
   "execution_count": null,
   "metadata": {
    "collapsed": true
   },
   "outputs": [],
   "source": [
    "# group()分组\n",
    "contactInfo = 'Doe, John: 555-1212'\n",
    "m = re.search(r'(\\w+), (\\w+): (\\S+)', contactInfo)\n",
    "print(m.group(1))\n",
    "print(m.group(2))\n",
    "print(m.group(3))\n",
    "print(m.group(0))\n"
   ]
  },
  {
   "cell_type": "code",
   "execution_count": null,
   "metadata": {
    "collapsed": true
   },
   "outputs": [],
   "source": [
    "# email example\n",
    "str = 'purple alice-b@google.com monkey dishwasher'\n",
    "match = re.search(r'\\w+@\\w+', str)\n",
    "if match:\n",
    "    print(match.group())  # 'b@google',因为\\w不能匹配到地址中的'-'和'.'"
   ]
  },
  {
   "cell_type": "markdown",
   "metadata": {
    "collapsed": true
   },
   "source": [
    "# 时间和日期\n",
    "\n",
    "## time模块和datetime模块"
   ]
  },
  {
   "cell_type": "code",
   "execution_count": null,
   "metadata": {
    "collapsed": true
   },
   "outputs": [],
   "source": [
    "import time\n",
    "\n",
    "print(time.time())\n",
    "print(time.localtime())\n",
    "for i in range(3):\n",
    "    time.sleep(0.5)\n",
    "    print(\"Tick!\")"
   ]
  },
  {
   "cell_type": "code",
   "execution_count": null,
   "metadata": {
    "collapsed": true
   },
   "outputs": [],
   "source": [
    "import datetime\n",
    "\n",
    "print(\"today is: \", datetime.date.today())\n",
    "print(\"now is: \", datetime.datetime.now())\n",
    "print(datetime.date(2019, 8, 1))\n",
    "print(datetime.time(14, 00))\n"
   ]
  },
  {
   "cell_type": "code",
   "execution_count": null,
   "metadata": {
    "collapsed": true
   },
   "outputs": [],
   "source": [
    "# 计算昨天和明天的日期\n",
    "import datetime\n",
    "\n",
    "today = datetime.date.today()\n",
    "yesterday = today - datetime.timedelta(days=1)\n",
    "tomorrow = today + datetime.timedelta(days=1)\n",
    "print(yesterday, today, tomorrow)"
   ]
  },
  {
   "cell_type": "markdown",
   "metadata": {
    "collapsed": true
   },
   "source": [
    "# 有用的内建函数\n",
    "\n",
    "## enumerate 函数\n"
   ]
  },
  {
   "cell_type": "code",
   "execution_count": null,
   "metadata": {
    "collapsed": true
   },
   "outputs": [],
   "source": [
    "# 对一个列表或数组既要遍历索引又要遍历元素时\n",
    "li = [1, 2, 3]\n",
    "for i in range(len(li)):\n",
    "    print(i, li[i])"
   ]
  },
  {
   "cell_type": "code",
   "execution_count": null,
   "metadata": {
    "collapsed": true
   },
   "outputs": [],
   "source": [
    "# enumerate会将数组或列表组成一个索引序列。使我们再获取索引和索引内容的时候更加方便如下：\n",
    "for index, text in enumerate(li):\n",
    "    print(index, text)"
   ]
  },
  {
   "cell_type": "markdown",
   "metadata": {
    "collapsed": true
   },
   "source": [
    "## 集合模块 collections\n",
    "\n",
    "collections是Python内建的一个集合模块，提供了许多有用的集合类。\n",
    "\n",
    "deque是为了高效实现插入和删除操作的双向列表，适合用于队列和栈。\n",
    "\n",
    "OrderedDict的Key会按照插入的顺序排列。\n",
    "\n",
    "Counter是一个简单的计数器，也是dict的一个子类。"
   ]
  },
  {
   "cell_type": "code",
   "execution_count": null,
   "metadata": {
    "collapsed": true
   },
   "outputs": [],
   "source": [
    "from collections import namedtuple\n",
    "\n",
    "Point = namedtuple('Point', ['x', 'y'])\n",
    "p = Point(1, 2)\n",
    "print(p.x)\n",
    "print(p.y)"
   ]
  },
  {
   "cell_type": "code",
   "execution_count": null,
   "metadata": {
    "collapsed": true
   },
   "outputs": [],
   "source": [
    "from collections import deque\n",
    "\n",
    "q = deque(['a', 'b', 'c'])\n",
    "q.append('x')\n",
    "q.appendleft('y')\n",
    "print(q)"
   ]
  },
  {
   "cell_type": "code",
   "execution_count": null,
   "metadata": {
    "collapsed": true
   },
   "outputs": [],
   "source": [
    "from collections import defaultdict\n",
    "\n",
    "dd = defaultdict(lambda: 'N/A')\n",
    "dd['key1'] = 'abc'\n",
    "print(dd['key1'])  # key1存在\n",
    "print(dd['key2'])  # key2不存在，返回默认值"
   ]
  },
  {
   "cell_type": "code",
   "execution_count": null,
   "metadata": {
    "collapsed": true
   },
   "outputs": [],
   "source": [
    "from collections import OrderedDict\n",
    "\n",
    "d = dict([('a', 1), ('b', 2), ('c', 3)])\n",
    "print(d)  # dict的Key是无序的，{'a': 1, 'c': 3, 'b': 2}\n",
    "od = OrderedDict([('a', 1), ('b', 2), ('c', 3)])\n",
    "print(od)  # OrderedDict的Key是有序的，OrderedDict([('a', 1), ('b', 2), ('c', 3)])"
   ]
  },
  {
   "cell_type": "code",
   "execution_count": null,
   "metadata": {
    "collapsed": true
   },
   "outputs": [],
   "source": [
    "from collections import Counter\n",
    "\n",
    "c = Counter()\n",
    "for ch in 'programming':\n",
    "    c[ch] = c[ch] + 1\n",
    "print(c)  # Counter({'g': 2, 'm': 2, 'r': 2, 'a': 1, 'i': 1, 'o': 1, 'n': 1, 'p': 1})"
   ]
  },
  {
   "cell_type": "markdown",
   "metadata": {
    "collapsed": true
   },
   "source": [
    "## 迭代器 itertools\n",
    "\n",
    "为高效循环而创建迭代器的函数\n",
    "\n",
    "参考：https://docs.python.org/zh-cn/3/library/itertools.html"
   ]
  },
  {
   "cell_type": "code",
   "execution_count": null,
   "metadata": {
    "collapsed": true
   },
   "outputs": [],
   "source": []
  },
  {
   "cell_type": "code",
   "execution_count": null,
   "metadata": {
    "collapsed": true
   },
   "outputs": [],
   "source": [
    "参考资料：七月在线课程"
   ]
  }
 ],
 "metadata": {
  "kernelspec": {
   "display_name": "Python 3",
   "language": "python",
   "name": "python3"
  },
  "language_info": {
   "codemirror_mode": {
    "name": "ipython",
    "version": 3
   },
   "file_extension": ".py",
   "mimetype": "text/x-python",
   "name": "python",
   "nbconvert_exporter": "python",
   "pygments_lexer": "ipython3",
   "version": "3.6.1"
  }
 },
 "nbformat": 4,
 "nbformat_minor": 2
}
