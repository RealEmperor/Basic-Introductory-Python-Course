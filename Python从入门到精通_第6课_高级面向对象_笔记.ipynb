{
 "cells": [
  {
   "cell_type": "markdown",
   "metadata": {
    "collapsed": true
   },
   "source": [
    "# __slots__和property\n",
    "\n",
    "方法和属性的动态绑定\n",
    "\n",
    "使用\\_\\_slots\\_\\_限定class实例能添加的属性\n",
    "\n",
    "\\_\\_slots\\_\\_仅对当前类实例起作用，对继承的子类是不起作用的。\n",
    "\n",
    "例子代码"
   ]
  },
  {
   "cell_type": "code",
   "execution_count": null,
   "metadata": {
    "collapsed": true
   },
   "outputs": [],
   "source": [
    "# __slots__\n",
    "import traceback\n",
    "\n",
    "from types import MethodType\n",
    "\n",
    "\n",
    "class MyClass(object):\n",
    "    __slots__ = ['name', 'set_name']\n",
    "\n",
    "\n",
    "def set_name(self, name):\n",
    "    self.name = name\n",
    "\n",
    "\n",
    "cls = MyClass()\n",
    "cls.name = 'Tom'\n",
    "cls.set_name = MethodType(set_name, cls)\n",
    "cls.set_name('Jerry')\n",
    "print(cls.name)\n",
    "try:\n",
    "    cls.age = 30\n",
    "except AttributeError:\n",
    "    traceback.print_exc()"
   ]
  },
  {
   "cell_type": "code",
   "execution_count": null,
   "metadata": {
    "collapsed": true
   },
   "outputs": [],
   "source": [
    "class ExtMyClass(MyClass):\n",
    "    pass\n",
    "\n",
    "\n",
    "ext_cls = ExtMyClass()\n",
    "ext_cls.age = 30\n",
    "print(ext_cls.age)"
   ]
  },
  {
   "cell_type": "markdown",
   "metadata": {},
   "source": [
    "直接暴露属性的局限性\n",
    "\n",
    "使用get/set方法\n",
    "\n",
    "利用@property简化get/set方法\n",
    "\n",
    "利用@property实现只读属性\n",
    "\n",
    "例子代码"
   ]
  },
  {
   "cell_type": "code",
   "execution_count": null,
   "metadata": {
    "collapsed": true
   },
   "outputs": [],
   "source": [
    "import traceback\n",
    "\n",
    "\n",
    "class Student:\n",
    "    # get\n",
    "    @property\n",
    "    def score(self):\n",
    "        return self._score\n",
    "\n",
    "    # set\n",
    "    @score.setter\n",
    "    def score(self, value):\n",
    "        if not isinstance(value, int):\n",
    "            raise ValueError('not int')\n",
    "\n",
    "        elif (value < 0) or (value > 100):\n",
    "            raise ValueError('not between 0 ~ 100')\n",
    "\n",
    "        self._score = value\n",
    "\n",
    "    # get, 只有get相当于只读\n",
    "    @property\n",
    "    def double_score(self):\n",
    "        return self._score * 2\n",
    "\n",
    "\n",
    "s = Student()\n",
    "s.score = 75\n",
    "print(s.score)"
   ]
  },
  {
   "cell_type": "code",
   "execution_count": null,
   "metadata": {
    "collapsed": true
   },
   "outputs": [],
   "source": [
    "try:\n",
    "    s.score = 'abc'\n",
    "except ValueError:\n",
    "    traceback.print_exc()"
   ]
  },
  {
   "cell_type": "code",
   "execution_count": null,
   "metadata": {
    "collapsed": true
   },
   "outputs": [],
   "source": [
    "try:\n",
    "    s.score = 101\n",
    "except:\n",
    "    traceback.print_exc()"
   ]
  },
  {
   "cell_type": "code",
   "execution_count": null,
   "metadata": {
    "collapsed": true
   },
   "outputs": [],
   "source": [
    "print(s.double_score)"
   ]
  },
  {
   "cell_type": "code",
   "execution_count": null,
   "metadata": {
    "collapsed": true
   },
   "outputs": [],
   "source": [
    "try:\n",
    "    s.double_score = 150\n",
    "except AttributeError:\n",
    "    traceback.print_exc()"
   ]
  },
  {
   "cell_type": "markdown",
   "metadata": {},
   "source": [
    "装饰器与property实现"
   ]
  },
  {
   "cell_type": "code",
   "execution_count": null,
   "metadata": {
    "collapsed": true
   },
   "outputs": [],
   "source": [
    "# 实现了__set__，__get__，__delete__ 方法的类称为描述了，控制类的读、写、删除\n",
    "# 具体定义查百度\n",
    "# 参考 class property(object) 源码，自定义类：MyProperty\n",
    "class MyProperty:\n",
    "    def __init__(self, fget=None, fset=None, fdel=None):\n",
    "        print(fget)\n",
    "        self.fget = fget\n",
    "        self.fset = fset\n",
    "        self.fdel = fdel\n",
    "\n",
    "    def __get__(self, instance, cls):\n",
    "        if self.fget:\n",
    "            print('__get__')\n",
    "            return self.fget(instance)\n",
    "\n",
    "    def __set__(self, instance, value):\n",
    "        if self.fset:\n",
    "            print('__set__')\n",
    "            return self.fset(instance, value)\n",
    "\n",
    "    def __delete__(self, instance):\n",
    "        if self.fdel:\n",
    "            return self.fdel(instance)\n",
    "\n",
    "    def getter(self, fn):\n",
    "        self.fget = fn\n",
    "\n",
    "    def setter(self, fn):\n",
    "        self.fset = fn\n",
    "\n",
    "    def deleter(self, fn):\n",
    "        self.fdel = fn\n",
    "\n",
    "\n",
    "class Student:\n",
    "    @MyProperty\n",
    "    def score(self):\n",
    "        return self._score\n",
    "\n",
    "    @score.setter\n",
    "    def set_score(self, value):\n",
    "        self._score = value\n",
    "\n",
    "\n",
    "s = Student()\n",
    "s.score = 95\n",
    "print(s.score)\n"
   ]
  },
  {
   "cell_type": "markdown",
   "metadata": {},
   "source": [
    "# 特殊方法与类的定制\n",
    "\n",
    "类的默认行为与定制\n",
    "\n",
    "常见特殊方法\n",
    "\n",
    "例子代码"
   ]
  },
  {
   "cell_type": "code",
   "execution_count": null,
   "metadata": {
    "collapsed": true
   },
   "outputs": [],
   "source": [
    "# __str__\n",
    "class MyClass:\n",
    "    def __init__(self, name):\n",
    "        self.name = name\n",
    "\n",
    "    def __str__(self):\n",
    "        print('print will call __str__ first.')\n",
    "        return 'Hello ' + self.name + '!'\n",
    "\n",
    "\n",
    "print(MyClass('Tom'))"
   ]
  },
  {
   "cell_type": "code",
   "execution_count": null,
   "metadata": {
    "collapsed": true
   },
   "outputs": [],
   "source": [
    "#  __next__\n",
    "class Fib100:\n",
    "    def __init__(self):\n",
    "        self._1, self._2 = 0, 1\n",
    "\n",
    "    def __iter__(self):\n",
    "        return self\n",
    "\n",
    "    def __next__(self):\n",
    "        self._1, self._2 = self._2, self._1 + self._2\n",
    "        if self._1 > 100:\n",
    "            raise StopIteration()\n",
    "        return self._1\n",
    "\n",
    "\n",
    "for i in Fib100():\n",
    "    print(i)\n"
   ]
  },
  {
   "cell_type": "code",
   "execution_count": null,
   "metadata": {
    "collapsed": true
   },
   "outputs": [],
   "source": [
    "# __call__\n",
    "class MyClass:\n",
    "    def __call__(self):\n",
    "        print('You can call cls() directly.')\n",
    "\n",
    "\n",
    "cls = MyClass()\n",
    "cls()\n",
    "\n",
    "print(callable(cls))\n",
    "print(callable(max))\n",
    "print(callable([1, 2, 3]))\n",
    "print(callable(None))\n",
    "print(callable('str'))\n"
   ]
  },
  {
   "cell_type": "markdown",
   "metadata": {},
   "source": [
    "# 枚举类\n",
    "\n",
    "枚举 vs 变量\n",
    "\n",
    "@unique帮助去重\n",
    "\n",
    "例子代码"
   ]
  },
  {
   "cell_type": "code",
   "execution_count": null,
   "metadata": {
    "collapsed": true
   },
   "outputs": [],
   "source": [
    "from enum import Enum\n",
    "\n",
    "Month = Enum('Month', ('Jan', 'Feb', 'Mar', 'Apr'))\n",
    "for name, member in Month.__members__.items():\n",
    "    print(name, '=>', member, ',', member.value)\n",
    "\n",
    "jan = Month.Jan\n",
    "print(jan)\n"
   ]
  },
  {
   "cell_type": "markdown",
   "metadata": {},
   "source": [
    "# 元类\n",
    "\n",
    "运行时动态创建 vs 编译时定义\n",
    "\n",
    "使用type创建新类型"
   ]
  },
  {
   "cell_type": "code",
   "execution_count": null,
   "metadata": {
    "collapsed": true
   },
   "outputs": [],
   "source": [
    "def init(self, name):\n",
    "    self.name = name\n",
    "\n",
    "\n",
    "def say_hello(self):\n",
    "    print('Hello, %s!' % self.name)\n",
    "\n",
    "\n",
    "# Hello = type('Hello', (object, ), dict(__init__ = init, hello = say_hello))\n",
    "Hello = type('Hello', (object,), {'__init__': init, 'hello': say_hello})\n",
    "'''\n",
    "class Hello:\n",
    "    def __init__(...)\n",
    "    def hello(...)\n",
    "'''\n",
    "h = Hello('Tom')\n",
    "h.hello()\n"
   ]
  },
  {
   "cell_type": "markdown",
   "metadata": {},
   "source": [
    "metaclass（元类）\n",
    "\n",
    "metaclass -> class -> instance\n",
    "\n",
    "继承和动态绑定可以解决问题吗？\n",
    "\n",
    "\\_\\_new\\_\\_函数"
   ]
  },
  {
   "cell_type": "code",
   "execution_count": null,
   "metadata": {
    "collapsed": true
   },
   "outputs": [],
   "source": [
    "def add(self, value):\n",
    "    self.append(value)\n",
    "\n",
    "\n",
    "class ListMetaclass(type):\n",
    "    def __new__(cls, name, bases, attrs):\n",
    "        print(cls)  # <class '__main__.ListMetaclass'>\n",
    "        print(name)  # MyList\n",
    "        print(bases)  # (<class 'list'>,)\n",
    "        print(type(attrs))  # <class 'dict'>\n",
    "        # attrs['add'] = lambda self, value: self.append(value)\n",
    "        attrs['add'] = add\n",
    "        attrs['name'] = 'Tom'\n",
    "        return type.__new__(cls, name, bases, attrs)\n",
    "\n",
    "\n",
    "class MyList(list, metaclass=ListMetaclass):  # 额外增加add方法，实际等价于append。\n",
    "    pass\n",
    "\n",
    "\n",
    "mli = MyList()\n",
    "mli.add(1)\n",
    "mli.add(2)\n",
    "mli.add(3)\n",
    "print(mli.name)\n",
    "print(mli)\n"
   ]
  },
  {
   "cell_type": "markdown",
   "metadata": {},
   "source": [
    "ORM框架实例分析"
   ]
  },
  {
   "cell_type": "code",
   "execution_count": null,
   "metadata": {
    "collapsed": true
   },
   "outputs": [],
   "source": [
    "class Field:\n",
    "    def __init__(self, name, col_type):\n",
    "        self.name = name\n",
    "        self.col_type = col_type\n",
    "\n",
    "\n",
    "class IntegerField(Field):\n",
    "    def __init__(self, name):\n",
    "        super(IntegerField, self).__init__(name, 'integer')\n",
    "\n",
    "\n",
    "class StringField(Field):\n",
    "    def __init__(self, name):\n",
    "        super(StringField, self).__init__(name, 'varchar(1024)')\n",
    "\n",
    "\n",
    "class ModelMetaclass(type):\n",
    "    def __new__(cls, name, bases, attrs):\n",
    "        if name == 'Model':\n",
    "            return type.__new__(cls, name, bases, attrs)\n",
    "        print('Model name: %s' % name)\n",
    "        mappings = {}\n",
    "        for k, v in attrs.items():\n",
    "            if isinstance(v, Field):\n",
    "                print('Field name: %s' % k)\n",
    "                mappings[k] = v\n",
    "        for k in mappings.keys():\n",
    "            attrs.pop(k)\n",
    "        attrs['__mappings__'] = mappings\n",
    "        attrs['__table__'] = name\n",
    "        return type.__new__(cls, name, bases, attrs)\n",
    "\n",
    "\n",
    "class Model(dict, metaclass=ModelMetaclass):\n",
    "    def __init__(self, **kvs):\n",
    "        super(Model, self).__init__(**kvs)\n",
    "\n",
    "    def __getattr__(self, key):\n",
    "        try:\n",
    "            return self[key]\n",
    "        except KeyError:\n",
    "            raise AttributeError(\"'Model' object has no attribute '%s'.\" % key)\n",
    "\n",
    "    def __setattr__(self, key, value):\n",
    "        print('__setattr__')\n",
    "        self[key] = value\n",
    "\n",
    "    def save(self):\n",
    "        fields = []\n",
    "        params = []\n",
    "        args = []\n",
    "        for k, v in self.__mappings__.items():\n",
    "            fields.append(v.name)\n",
    "            params.append('?')\n",
    "            args.append(getattr(self, k, None))\n",
    "        sql = 'insert into %s(%s) values(%s)' % (self.__table__, ','.join(fields), ','.join(params))\n",
    "        print('sql:', sql)\n",
    "        print('args:', args)\n",
    "\n",
    "\n",
    "class User(Model):\n",
    "    id = IntegerField('id')\n",
    "    name = StringField('name')\n",
    "\n",
    "\n",
    "# u = User(id = 100, name = 'Tom')\n",
    "u = User()\n",
    "u.id = 100\n",
    "u.name = 'Tom'\n",
    "u.save()\n"
   ]
  },
  {
   "cell_type": "markdown",
   "metadata": {},
   "source": [
    "# 异常与错误处理\n",
    "\n",
    "为什么使用异常？\n",
    "\n",
    "异常的抛出与捕捉\n",
    "\n",
    "traceback使用 （参考：https://docs.python.org/zh-cn/3/library/traceback.html ）\n",
    "\n",
    "logging使用与配置（参考：https://cloud.tencent.com/developer/article/1354396 ）\n",
    "\n",
    "例子代码"
   ]
  },
  {
   "cell_type": "code",
   "execution_count": null,
   "metadata": {
    "collapsed": true
   },
   "outputs": [],
   "source": [
    "import traceback\n",
    "\n",
    "try:\n",
    "    # r = 10 / 0\n",
    "    r = 10 / 1\n",
    "except ZeroDivisionError as e:\n",
    "    print(e)\n",
    "    r = 1\n",
    "else:\n",
    "    print('没有异常')\n",
    "finally:\n",
    "    print('不管有没有异常都执行')\n",
    "print(r)\n"
   ]
  },
  {
   "cell_type": "markdown",
   "metadata": {},
   "source": [
    "# 单元测试\n",
    "\n",
    "为什么需要单元测试\n",
    "\n",
    "unittest使用 （参考：https://docs.python.org/zh-cn/3/library/unittest.html ）\n",
    "\n",
    "mock介绍与使用 （参考：https://docs.python.org/zh-cn/3/library/unittest.mock-examples.html ）\n",
    "\n",
    "例子代码："
   ]
  },
  {
   "cell_type": "code",
   "execution_count": null,
   "metadata": {
    "collapsed": true
   },
   "outputs": [],
   "source": [
    "import unittest\n",
    "\n",
    "\n",
    "class MyDict(dict):\n",
    "    pass\n",
    "\n",
    "\n",
    "class TestMyDict(unittest.TestCase):\n",
    "    def setUp(self):\n",
    "        print('测试前准备')\n",
    "\n",
    "    def tearDown(self):\n",
    "        print('测试后清理')\n",
    "\n",
    "    def test_init(self):\n",
    "        md = MyDict(one=1, two=2)\n",
    "        self.assertEqual(md['one'], 1)\n",
    "        self.assertEqual(md['two'], 2)\n",
    "        # self.assertEqual(md['two'], 3)\n",
    "\n",
    "    def test_nothing(self):\n",
    "        pass\n",
    "\n",
    "\n",
    "if __name__ == '__main__':\n",
    "    unittest.main()\n",
    "\n",
    "# python test_module.py\n",
    "# python -m unittest test_module\n",
    "# python -m unittest test_module.test_class\n",
    "# python -m unittest test_module.test_class.test_method\n"
   ]
  },
  {
   "cell_type": "markdown",
   "metadata": {},
   "source": [
    "参考资料：七月在线课程"
   ]
  }
 ],
 "metadata": {
  "kernelspec": {
   "display_name": "Python 3",
   "language": "python",
   "name": "python3"
  },
  "language_info": {
   "codemirror_mode": {
    "name": "ipython",
    "version": 3
   },
   "file_extension": ".py",
   "mimetype": "text/x-python",
   "name": "python",
   "nbconvert_exporter": "python",
   "pygments_lexer": "ipython3",
   "version": "3.6.1"
  }
 },
 "nbformat": 4,
 "nbformat_minor": 2
}
